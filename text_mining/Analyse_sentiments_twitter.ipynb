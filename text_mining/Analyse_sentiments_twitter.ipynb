{
 "cells": [
  {
   "cell_type": "markdown",
   "id": "d58c170c-5547-4974-9d95-433453c78305",
   "metadata": {},
   "source": [
    "# Analyse de sentiments - Twitter US Airline Sentiment"
   ]
  },
  {
   "cell_type": "code",
   "execution_count": null,
   "id": "61f57b0f-6322-41d5-af62-118f2e98cadc",
   "metadata": {},
   "outputs": [],
   "source": [
    "#pip install tqdm\n",
    "# !pip install numpy pandas matplotlib seaborn scikit-learn gensim nltk emoji joblib"
   ]
  },
  {
   "cell_type": "code",
   "execution_count": 6,
   "id": "63153767-116c-405d-b2d6-b491b4391e5d",
   "metadata": {},
   "outputs": [],
   "source": [
    "# 1. Configuration initiale et importation des bibliothèques\n",
    "import numpy as np\n",
    "import pandas as pd\n",
    "import matplotlib.pyplot as plt\n",
    "import seaborn as sns\n",
    "from sklearn.base import BaseEstimator, TransformerMixin\n",
    "from sklearn.feature_extraction.text import CountVectorizer, TfidfVectorizer\n",
    "from sklearn.model_selection import GridSearchCV, train_test_split\n",
    "from sklearn.pipeline import Pipeline, FeatureUnion\n",
    "from sklearn.metrics import classification_report\n",
    "from sklearn.naive_bayes import MultinomialNB\n",
    "from sklearn.linear_model import LogisticRegression\n",
    "import joblib\n",
    "import gensim\n",
    "import nltk\n",
    "from nltk.corpus import stopwords\n",
    "from nltk.stem import PorterStemmer\n",
    "from nltk.tokenize import word_tokenize\n",
    "import re\n",
    "import string\n",
    "import emoji\n",
    "import warnings\n",
    "from collections import Counter\n",
    "from time import time\n",
    "\n",
    "# Configuration des options\n",
    "pd.set_option('display.max_colwidth', None)\n",
    "warnings.filterwarnings('ignore')\n",
    "np.random.seed(37)\n",
    "\n",
    "# Configuration de seaborn\n",
    "sns.set(style=\"darkgrid\")\n",
    "sns.set(font_scale=1.3)\n",
    "\n",
    "# Téléchargement des ressources NLTK nécessaires\n",
    "#nltk.download('punkt')\n",
    "#nltk.download('stopwords')"
   ]
  },
  {
   "cell_type": "code",
   "execution_count": 7,
   "id": "5276968d-f3a9-4575-b04d-19445a70e57c",
   "metadata": {},
   "outputs": [],
   "source": [
    "# 2. Chargement et préparation des données\n",
    "\n",
    "df = pd.read_csv(\"Tweets.csv\")\n",
    "df = df.reindex(np.random.permutation(df.index))\n",
    "df = df[['text', 'airline_sentiment']]"
   ]
  },
  {
   "cell_type": "code",
   "execution_count": 12,
   "id": "ad3eab99",
   "metadata": {},
   "outputs": [
    {
     "data": {
      "text/html": [
       "<div>\n",
       "<style scoped>\n",
       "    .dataframe tbody tr th:only-of-type {\n",
       "        vertical-align: middle;\n",
       "    }\n",
       "\n",
       "    .dataframe tbody tr th {\n",
       "        vertical-align: top;\n",
       "    }\n",
       "\n",
       "    .dataframe thead th {\n",
       "        text-align: right;\n",
       "    }\n",
       "</style>\n",
       "<table border=\"1\" class=\"dataframe\">\n",
       "  <thead>\n",
       "    <tr style=\"text-align: right;\">\n",
       "      <th></th>\n",
       "      <th>text</th>\n",
       "      <th>airline_sentiment</th>\n",
       "    </tr>\n",
       "  </thead>\n",
       "  <tbody>\n",
       "    <tr>\n",
       "      <th>10620</th>\n",
       "      <td>@USAirways told to work it out ourselves #joke #fail</td>\n",
       "      <td>negative</td>\n",
       "    </tr>\n",
       "    <tr>\n",
       "      <th>13609</th>\n",
       "      <td>@AmericanAir that all AA is for USAir Elite members. It's one big disappointment in the way we are treated. #epicfailure</td>\n",
       "      <td>negative</td>\n",
       "    </tr>\n",
       "    <tr>\n",
       "      <th>2955</th>\n",
       "      <td>@united Bummer. Might have to go with @AmericanAir card instead. TY for response though.</td>\n",
       "      <td>negative</td>\n",
       "    </tr>\n",
       "    <tr>\n",
       "      <th>3585</th>\n",
       "      <td>@united well the income flight to dca to take us to ewr was delayed and it made us miss our connection to FLL so yes hotels were necessary</td>\n",
       "      <td>negative</td>\n",
       "    </tr>\n",
       "    <tr>\n",
       "      <th>2087</th>\n",
       "      <td>@united we have tried to change our flight THREE times on the phone and got disconnected each time.</td>\n",
       "      <td>negative</td>\n",
       "    </tr>\n",
       "  </tbody>\n",
       "</table>\n",
       "</div>"
      ],
      "text/plain": [
       "                                                                                                                                             text  \\\n",
       "10620                                                                                        @USAirways told to work it out ourselves #joke #fail   \n",
       "13609                    @AmericanAir that all AA is for USAir Elite members. It's one big disappointment in the way we are treated. #epicfailure   \n",
       "2955                                                     @united Bummer. Might have to go with @AmericanAir card instead. TY for response though.   \n",
       "3585   @united well the income flight to dca to take us to ewr was delayed and it made us miss our connection to FLL so yes hotels were necessary   \n",
       "2087                                          @united we have tried to change our flight THREE times on the phone and got disconnected each time.   \n",
       "\n",
       "      airline_sentiment  \n",
       "10620          negative  \n",
       "13609          negative  \n",
       "2955           negative  \n",
       "3585           negative  \n",
       "2087           negative  "
      ]
     },
     "execution_count": 12,
     "metadata": {},
     "output_type": "execute_result"
    }
   ],
   "source": [
    "df.head()"
   ]
  },
  {
   "cell_type": "markdown",
   "id": "282b584e-29b5-4859-b06d-414460a666da",
   "metadata": {},
   "source": [
    "## Analyse Exploratoire des Données"
   ]
  },
  {
   "cell_type": "markdown",
   "id": "25572a53-f8c6-4313-ad63-81d782e3d3cf",
   "metadata": {},
   "source": [
    "Le code suivant effectue une analyse exploratoire des données sur un ensemble de tweets concernant des compagnies aériennes. Il commence par importer les bibliothèques nécessaires pour la manipulation des données, le traitement du texte, et la visualisation. La pièce maîtresse du code est la classe TextCounts, un transformateur personnalisé conçu pour extraire diverses caractéristiques textuelles des tweets, telles que le nombre de mots, de mentions, de hashtags, de mots en majuscules, de marques de ponctuation, d'URLs et d'emojis. Cette classe utilise des expressions régulières pour compter ces éléments et retourne les résultats dans un DataFrame.\n",
    "\n",
    "Le code inclut également une fonction show_dist pour visualiser la distribution des caractéristiques extraites, segmentée par sentiment. Après avoir appliqué le transformateur TextCounts aux tweets, le code ajoute la colonne de sentiment au DataFrame résultant. Enfin, il utilise seaborn pour tracer un graphique en barres montrant la distribution globale des sentiments dans le dataset. Ce code forme la base d'une analyse exploratoire approfondie des données textuelles des tweets, permettant d'examiner diverses caractéristiques linguistiques et leur relation avec le sentiment exprimé envers les compagnies aériennes."
   ]
  },
  {
   "cell_type": "code",
   "execution_count": 8,
   "id": "123401a3-82a0-445f-958f-b3834ec277ca",
   "metadata": {},
   "outputs": [
    {
     "data": {
      "image/png": "[encoded data removed]",
      "text/plain": [
       "<Figure size 648x432 with 1 Axes>"
      ]
     },
     "metadata": {},
     "output_type": "display_data"
    }
   ],
   "source": [
    "import pandas as pd\n",
    "import numpy as np\n",
    "import re\n",
    "import emoji\n",
    "import seaborn as sns\n",
    "import matplotlib.pyplot as plt\n",
    "from sklearn.base import BaseEstimator, TransformerMixin\n",
    "\n",
    "# 3. Analyse exploratoire des données\n",
    "class TextCounts(BaseEstimator, TransformerMixin):\n",
    "    \n",
    "    def count_regex(self, pattern, tweet):\n",
    "        return len(re.findall(pattern, tweet))\n",
    "    \n",
    "    def fit(self, X, y=None, **fit_params):\n",
    "        return self\n",
    "    \n",
    "    def transform(self, X, **transform_params):\n",
    "        count_words = X.apply(lambda x: self.count_regex(r'\\w+', x)) \n",
    "        count_mentions = X.apply(lambda x: self.count_regex(r'@\\w+', x))\n",
    "        count_hashtags = X.apply(lambda x: self.count_regex(r'#\\w+', x))\n",
    "        count_capital_words = X.apply(lambda x: self.count_regex(r'\\b[A-Z]{2,}\\b', x))\n",
    "        count_excl_quest_marks = X.apply(lambda x: self.count_regex(r'!|\\?', x))\n",
    "        count_urls = X.apply(lambda x: self.count_regex(r'http.?://[^\\s]+[\\s]?', x))\n",
    "        count_emojis = X.apply(lambda x: emoji.emoji_count(x))\n",
    "        \n",
    "        df = pd.DataFrame({\n",
    "            'count_words': count_words,\n",
    "            'count_mentions': count_mentions,\n",
    "            'count_hashtags': count_hashtags,\n",
    "            'count_capital_words': count_capital_words,\n",
    "            'count_excl_quest_marks': count_excl_quest_marks,\n",
    "            'count_urls': count_urls,\n",
    "            'count_emojis': count_emojis\n",
    "        })\n",
    "        \n",
    "        return df\n",
    "\n",
    "def show_dist(df, col):\n",
    "    print(f'Descriptive stats for {col}')\n",
    "    print('-'*(len(col)+22))\n",
    "    print(df.groupby('airline_sentiment')[col].describe())\n",
    "    bins = np.arange(df[col].min(), df[col].max() + 1)\n",
    "    g = sns.FacetGrid(df, col='airline_sentiment', height=5, hue='airline_sentiment', palette=\"PuBuGn_d\")\n",
    "    g = g.map(sns.histplot, col, kde=False, stat=\"density\", bins=bins)\n",
    "    plt.show()\n",
    "\n",
    "\n",
    "tc = TextCounts()\n",
    "df_eda = tc.fit_transform(df['text'])\n",
    "df_eda['airline_sentiment'] = df['airline_sentiment']\n",
    "\n",
    "# Visualisation de la distribution des sentiments\n",
    "sns.catplot(x=\"airline_sentiment\", data=df, kind=\"count\", height=6, aspect=1.5, palette=\"PuBuGn_d\")\n",
    "plt.show()"
   ]
  },
  {
   "cell_type": "code",
   "execution_count": 9,
   "id": "404a70c7-1f4a-4c71-9041-c18a3a91e64c",
   "metadata": {},
   "outputs": [
    {
     "name": "stdout",
     "output_type": "stream",
     "text": [
      "Descriptive stats for count_words\n",
      "---------------------------------\n",
      "                    count       mean       std  min   25%   50%   75%   max\n",
      "airline_sentiment                                                          \n",
      "negative           9178.0  20.387557  6.100020  2.0  17.0  22.0  25.0  35.0\n",
      "neutral            3099.0  15.290094  7.150738  2.0  10.0  15.0  21.0  34.0\n",
      "positive           2363.0  14.478206  7.266129  2.0   8.0  14.0  21.0  33.0\n"
     ]
    },
    {
     "data": {
      "image/png": "[encoded data removed]",
      "text/plain": [
       "<Figure size 1080x360 with 3 Axes>"
      ]
     },
     "metadata": {},
     "output_type": "display_data"
    }
   ],
   "source": [
    "# Pour visualiser la distribution d'une caractéristique spécifique\n",
    "show_dist(df_eda, 'count_words')  # Décommentez cette ligne pour l'utiliser"
   ]
  },
  {
   "cell_type": "markdown",
   "id": "89b699ab-21e8-4509-8a11-2a1f7641768a",
   "metadata": {},
   "source": [
    "## Nettoyage de données"
   ]
  },
  {
   "cell_type": "markdown",
   "id": "4dc3c8cc-ec5c-417a-ae5e-e28c1d2aa20b",
   "metadata": {},
   "source": [
    "Le code suivant définit une classe CleanText qui hérite de BaseEstimator et TransformerMixin de scikit-learn, conçue pour nettoyer et prétraiter le texte des tweets. La classe comprend plusieurs méthodes de nettoyage, chacune responsable d'une tâche spécifique : suppression des mentions (@utilisateur), des URLs, uniformisation des emojis, suppression de la ponctuation et des chiffres, conversion en minuscules, élimination des mots vides (stopwords), et racinisation (stemming). La méthode transform applique ces opérations de nettoyage en séquence sur le texte d'entrée. Le code se termine par la création d'une instance de CleanText et son application sur la colonne 'text' du DataFrame df, produisant une série de tweets nettoyés.\n",
    "\n",
    "Ce processus de nettoyage est une étape cruciale dans le prétraitement des données textuelles pour l'analyse de sentiment ou d'autres tâches de traitement du langage naturel. Il vise à réduire le bruit dans les données, à normaliser le texte et à le préparer pour les étapes ultérieures de l'analyse, comme la vectorisation ou la modélisation. Le nettoyage permet de se concentrer sur le contenu significatif des tweets en éliminant les éléments non pertinents ou redondants, ce qui peut améliorer la performance des modèles d'apprentissage automatique appliqués par la suite."
   ]
  },
  {
   "cell_type": "code",
   "execution_count": 11,
   "id": "96fdef3c",
   "metadata": {},
   "outputs": [
    {
     "data": {
      "text/html": [
       "<div>\n",
       "<style scoped>\n",
       "    .dataframe tbody tr th:only-of-type {\n",
       "        vertical-align: middle;\n",
       "    }\n",
       "\n",
       "    .dataframe tbody tr th {\n",
       "        vertical-align: top;\n",
       "    }\n",
       "\n",
       "    .dataframe thead th {\n",
       "        text-align: right;\n",
       "    }\n",
       "</style>\n",
       "<table border=\"1\" class=\"dataframe\">\n",
       "  <thead>\n",
       "    <tr style=\"text-align: right;\">\n",
       "      <th></th>\n",
       "      <th>count_words</th>\n",
       "      <th>count_mentions</th>\n",
       "      <th>count_hashtags</th>\n",
       "      <th>count_capital_words</th>\n",
       "      <th>count_excl_quest_marks</th>\n",
       "      <th>count_urls</th>\n",
       "      <th>count_emojis</th>\n",
       "      <th>airline_sentiment</th>\n",
       "    </tr>\n",
       "  </thead>\n",
       "  <tbody>\n",
       "    <tr>\n",
       "      <th>10620</th>\n",
       "      <td>9</td>\n",
       "      <td>1</td>\n",
       "      <td>2</td>\n",
       "      <td>0</td>\n",
       "      <td>0</td>\n",
       "      <td>0</td>\n",
       "      <td>0</td>\n",
       "      <td>negative</td>\n",
       "    </tr>\n",
       "    <tr>\n",
       "      <th>13609</th>\n",
       "      <td>21</td>\n",
       "      <td>1</td>\n",
       "      <td>1</td>\n",
       "      <td>1</td>\n",
       "      <td>0</td>\n",
       "      <td>0</td>\n",
       "      <td>0</td>\n",
       "      <td>negative</td>\n",
       "    </tr>\n",
       "    <tr>\n",
       "      <th>2955</th>\n",
       "      <td>14</td>\n",
       "      <td>2</td>\n",
       "      <td>0</td>\n",
       "      <td>1</td>\n",
       "      <td>0</td>\n",
       "      <td>0</td>\n",
       "      <td>0</td>\n",
       "      <td>negative</td>\n",
       "    </tr>\n",
       "    <tr>\n",
       "      <th>3585</th>\n",
       "      <td>28</td>\n",
       "      <td>1</td>\n",
       "      <td>0</td>\n",
       "      <td>1</td>\n",
       "      <td>0</td>\n",
       "      <td>0</td>\n",
       "      <td>0</td>\n",
       "      <td>negative</td>\n",
       "    </tr>\n",
       "    <tr>\n",
       "      <th>2087</th>\n",
       "      <td>18</td>\n",
       "      <td>1</td>\n",
       "      <td>0</td>\n",
       "      <td>1</td>\n",
       "      <td>0</td>\n",
       "      <td>0</td>\n",
       "      <td>0</td>\n",
       "      <td>negative</td>\n",
       "    </tr>\n",
       "  </tbody>\n",
       "</table>\n",
       "</div>"
      ],
      "text/plain": [
       "       count_words  count_mentions  count_hashtags  count_capital_words  \\\n",
       "10620            9               1               2                    0   \n",
       "13609           21               1               1                    1   \n",
       "2955            14               2               0                    1   \n",
       "3585            28               1               0                    1   \n",
       "2087            18               1               0                    1   \n",
       "\n",
       "       count_excl_quest_marks  count_urls  count_emojis airline_sentiment  \n",
       "10620                       0           0             0          negative  \n",
       "13609                       0           0             0          negative  \n",
       "2955                        0           0             0          negative  \n",
       "3585                        0           0             0          negative  \n",
       "2087                        0           0             0          negative  "
      ]
     },
     "execution_count": 11,
     "metadata": {},
     "output_type": "execute_result"
    }
   ],
   "source": [
    "df_eda.head(5)"
   ]
  },
  {
   "cell_type": "code",
   "execution_count": 10,
   "id": "4d50b275-c7bb-4a6b-a71b-fda8be5ea912",
   "metadata": {},
   "outputs": [],
   "source": [
    "# 4. Nettoyage du texte\n",
    "\n",
    "class CleanText(BaseEstimator, TransformerMixin):\n",
    "    def remove_mentions(self, input_text):\n",
    "        return re.sub(r'@\\w+', '', input_text)\n",
    "    \n",
    "    def remove_urls(self, input_text):\n",
    "        return re.sub(r'http.?://[^\\s]+[\\s]?', '', input_text)\n",
    "    \n",
    "    def emoji_oneword(self, input_text):\n",
    "        return input_text.replace('_','')\n",
    "    \n",
    "    def remove_punctuation(self, input_text):\n",
    "        punct = string.punctuation\n",
    "        trantab = str.maketrans(punct, len(punct)*' ')\n",
    "        return input_text.translate(trantab)\n",
    "    \n",
    "    def remove_digits(self, input_text):\n",
    "        return re.sub('\\d+', '', input_text)\n",
    "    \n",
    "    def to_lower(self, input_text):\n",
    "        return input_text.lower()\n",
    "    \n",
    "    def remove_stopwords(self, input_text):\n",
    "        stopwords_list = stopwords.words('english')\n",
    "        whitelist = [\"n't\", \"not\", \"no\"]\n",
    "        words = input_text.split() \n",
    "        clean_words = [word for word in words if (word not in stopwords_list or word in whitelist) and len(word) > 1] \n",
    "        return \" \".join(clean_words) \n",
    "    \n",
    "    def stemming(self, input_text):\n",
    "        porter = PorterStemmer()\n",
    "        words = input_text.split() \n",
    "        stemmed_words = [porter.stem(word) for word in words]\n",
    "        return \" \".join(stemmed_words)\n",
    "    \n",
    "    def fit(self, X, y=None, **fit_params):\n",
    "        return self\n",
    "    \n",
    "    def transform(self, X, **transform_params):\n",
    "        clean_X = X.apply(self.remove_mentions).apply(self.remove_urls).apply(self.emoji_oneword).apply(self.remove_punctuation).apply(self.remove_digits).apply(self.to_lower).apply(self.remove_stopwords).apply(self.stemming)\n",
    "        return clean_X\n",
    "\n",
    "ct = CleanText()\n",
    "sr_clean = ct.fit_transform(df.text)"
   ]
  },
  {
   "cell_type": "markdown",
   "id": "467bc38d-6577-4e11-aaf9-a480309871ac",
   "metadata": {},
   "source": [
    "## Modélisation"
   ]
  },
  {
   "cell_type": "markdown",
   "id": "14ab0ee4-efb8-43dd-ac4c-bfdf0aae5db8",
   "metadata": {},
   "source": [
    "Dans la suite, le code prépare les données pour l'entraînement d'un modèle d'apprentissage automatique. Il commence par créer un nouveau DataFrame df_model en combinant les caractéristiques extraites précédemment (df_eda) avec le texte nettoyé (sr_clean). Ensuite, il affiche la liste des colonnes du DataFrame pour vérifier sa structure. La partie principale du code utilise la fonction train_test_split de scikit-learn pour diviser les données en ensembles d'entraînement et de test, avec 90% des données pour l'entraînement et 10% pour le test.\n",
    "\n",
    "La classe ColumnExtractor est définie comme un transformateur personnalisé qui permet de sélectionner des colonnes spécifiques d'un DataFrame. Cette classe sera utile dans un pipeline de modélisation pour extraire les colonnes pertinentes à chaque étape du processus. Enfin, le code répète l'opération de division des données, probablement par inadvertance. Cette préparation des données est une étape cruciale dans le processus de modélisation, permettant de structurer les données de manière appropriée pour l'entraînement et l'évaluation du modèle, tout en fournissant des outils flexibles (comme ColumnExtractor) pour manipuler les données dans le pipeline de modélisation."
   ]
  },
  {
   "cell_type": "code",
   "execution_count": 13,
   "id": "45552027-3a58-4550-ac46-52890c9e6883",
   "metadata": {},
   "outputs": [],
   "source": [
    "# 5. Préparation des données pour le modèle\n",
    "\n",
    "df_model = df_eda\n",
    "df_model['clean_text'] = sr_clean\n",
    "df_model.columns.tolist()\n",
    "\n",
    "X_train, X_test, y_train, y_test = train_test_split(df_model.drop('airline_sentiment', axis=1), df_model.airline_sentiment, test_size=0.1, random_state=37)\n"
   ]
  },
  {
   "cell_type": "code",
   "execution_count": 14,
   "id": "fe051004-c670-4e8d-9da0-b2b270011de5",
   "metadata": {},
   "outputs": [],
   "source": [
    "#6. Sélection des colonnes\n",
    "class ColumnExtractor(TransformerMixin, BaseEstimator):\n",
    "    def __init__(self, cols):\n",
    "        self.cols = cols\n",
    "    def transform(self, X, **transform_params):\n",
    "        return X[self.cols]\n",
    "    def fit(self, X, y=None, **fit_params):\n",
    "        return self\n",
    "X_train, X_test, y_train, y_test = train_test_split(df_model.drop('airline_sentiment', axis=1), df_model.airline_sentiment, test_size=0.1, random_state=37)\n"
   ]
  },
  {
   "cell_type": "markdown",
   "id": "536b13a4-ca26-4eb8-addd-e0e01aa9bc6b",
   "metadata": {},
   "source": [
    "Le code suivant définit une fonction grid_vect et des dictionnaires de paramètres pour effectuer une recherche par grille (grid search) sur différents modèles de classification de texte. Voici un résumé en deux paragraphes :\n",
    "\n",
    "La fonction grid_vect est conçue pour effectuer une recherche par grille sur un classificateur donné, en utilisant soit des caractéristiques de texte extraites (textcounts) soit une combinaison de ces caractéristiques avec des vecteurs de mots (word2vec ou vectorisation de texte classique). Elle utilise FeatureUnion et Pipeline de scikit-learn pour combiner différentes étapes de prétraitement et de classification. La fonction effectue la recherche par grille, affiche les meilleurs paramètres trouvés, évalue le modèle sur l'ensemble de test et affiche un rapport de classification détaillé. Cette approche permet d'optimiser automatiquement les hyperparamètres du modèle et du prétraitement du texte simultanément.\n",
    "\n",
    "Les dictionnaires parameters_vect, parameters_mnb, et parameters_logreg définissent les grilles de paramètres à explorer pour différentes parties du pipeline. parameters_vect concerne la vectorisation du texte, spécifiant des options pour la fréquence maximale des documents (max_df), la plage de n-grammes, et la fréquence minimale des documents (min_df). parameters_mnb définit les valeurs à tester pour le paramètre alpha du classificateur Naive Bayes multinomial, tandis que parameters_logreg spécifie les valeurs à explorer pour le paramètre C et le type de pénalité de la régression logistique. Ces grilles de paramètres permettent une exploration systématique de l'espace des hyperparamètres pour trouver la meilleure configuration du modèle."
   ]
  },
  {
   "cell_type": "code",
   "execution_count": 24,
   "id": "dc0dc2ca-dad6-40b8-8442-a13e2e5b0fb0",
   "metadata": {},
   "outputs": [],
   "source": [
    "# 7. Hyperparamètres et validations croisées et métriques\n",
    "def grid_vect(clf, parameters_clf, X_train, X_test, parameters_text=None, vect=None, is_w2v=False):\n",
    "    \n",
    "    textcountscols = ['count_capital_words','count_emojis','count_excl_quest_marks','count_hashtags'\n",
    "                      ,'count_mentions','count_urls','count_words']\n",
    "    \n",
    "    if is_w2v:\n",
    "        w2vcols = []\n",
    "        for i in range(SIZE):\n",
    "            w2vcols.append(i)\n",
    "        features = FeatureUnion([('textcounts', ColumnExtractor(cols=textcountscols))\n",
    "                                 , ('w2v', ColumnExtractor(cols=w2vcols))]\n",
    "                                , n_jobs=-1)\n",
    "    else:\n",
    "        features = FeatureUnion([('textcounts', ColumnExtractor(cols=textcountscols))\n",
    "                                 , ('pipe', Pipeline([('cleantext', ColumnExtractor(cols='clean_text')), ('vect', vect)]))]\n",
    "                                , n_jobs=-1)\n",
    "    \n",
    "    pipeline = Pipeline([\n",
    "        ('features', features)\n",
    "        , ('clf', clf)\n",
    "    ])\n",
    "    \n",
    "    # Join the parameters dictionaries together\n",
    "    parameters = dict()\n",
    "    if parameters_text:\n",
    "        parameters.update(parameters_text)\n",
    "    parameters.update(parameters_clf)\n",
    "    # Make sure you have scikit-learn version 0.19 or higher to use multiple scoring metrics\n",
    "    grid_search = GridSearchCV(pipeline, parameters, n_jobs=-1, verbose=1, cv=5)\n",
    "    \n",
    "    print(\"Performing grid search...\")\n",
    "    print(\"pipeline:\", [name for name, _ in pipeline.steps])\n",
    "    print(\"parameters:\")\n",
    "    print(parameters)\n",
    "    t0 = time()\n",
    "    grid_search.fit(X_train, y_train)\n",
    "    print(\"done in %0.3fs\" % (time() - t0))\n",
    "    print()\n",
    "    print(\"Best CV score: %0.3f\" % grid_search.best_score_)\n",
    "    print(\"Best parameters set:\")\n",
    "    best_parameters = grid_search.best_estimator_.get_params()\n",
    "    for param_name in sorted(parameters.keys()):\n",
    "        print(\"\\t%s: %r\" % (param_name, best_parameters[param_name]))\n",
    "        \n",
    "    print(\"Test score with best_estimator_: %0.3f\" % grid_search.best_estimator_.score(X_test, y_test))\n",
    "    print(\"\\n\")\n",
    "    print(\"Classification Report Test Data\")\n",
    "    print(classification_report(y_test, grid_search.best_estimator_.predict(X_test)))\n",
    "                        \n",
    "    return grid_search"
   ]
  },
  {
   "cell_type": "code",
   "execution_count": 25,
   "id": "884eee97-dded-4d55-9dad-84828f926872",
   "metadata": {},
   "outputs": [],
   "source": [
    "parameters_vect = {\n",
    "    'features__pipe__vect__max_df': (0.25, 0.5, 0.75),\n",
    "    'features__pipe__vect__ngram_range': ((1, 1), (1, 2)),\n",
    "    'features__pipe__vect__min_df': (1,2)\n",
    "}\n",
    "# Parameter grid settings for MultinomialNB\n",
    "parameters_mnb = {\n",
    "    'clf__alpha': (0.25, 0.5, 0.75)\n",
    "}\n",
    "# Parameter grid settings for LogisticRegression\n",
    "parameters_logreg = {\n",
    "    'clf__C': (0.25, 0.5, 1.0),\n",
    "    'clf__penalty': ('l1', 'l2')\n",
    "}"
   ]
  },
  {
   "cell_type": "code",
   "execution_count": 26,
   "id": "92cfb228-600d-45d9-9130-8abc0233b5f5",
   "metadata": {},
   "outputs": [],
   "source": [
    "#8. Modélisations\n",
    "mnb = MultinomialNB()\n",
    "logreg = LogisticRegression()"
   ]
  },
  {
   "cell_type": "markdown",
   "id": "8a5df5d3-d70a-44e7-80e9-3030d770e929",
   "metadata": {},
   "source": [
    "Avant d'appliquer les modèles, il faut toujours transformer les données textuelles en données numériques.\n",
    "Ici, nous appliquons le sac de mots et le tf-idf pour retenir le plus performant sur nos données."
   ]
  },
  {
   "cell_type": "code",
   "execution_count": 27,
   "id": "576921e6-ffe3-44ec-9010-f06c1c01cf40",
   "metadata": {},
   "outputs": [
    {
     "name": "stdout",
     "output_type": "stream",
     "text": [
      "Performing grid search...\n",
      "pipeline: ['features', 'clf']\n",
      "parameters:\n",
      "{'features__pipe__vect__max_df': (0.25, 0.5, 0.75), 'features__pipe__vect__ngram_range': ((1, 1), (1, 2)), 'features__pipe__vect__min_df': (1, 2), 'clf__alpha': (0.25, 0.5, 0.75)}\n",
      "Fitting 5 folds for each of 36 candidates, totalling 180 fits\n",
      "done in 30.235s\n",
      "\n",
      "Best CV score: 0.775\n",
      "Best parameters set:\n",
      "\tclf__alpha: 0.5\n",
      "\tfeatures__pipe__vect__max_df: 0.5\n",
      "\tfeatures__pipe__vect__min_df: 2\n",
      "\tfeatures__pipe__vect__ngram_range: (1, 2)\n",
      "Test score with best_estimator_: 0.784\n",
      "\n",
      "\n",
      "Classification Report Test Data\n",
      "              precision    recall  f1-score   support\n",
      "\n",
      "    negative       0.82      0.91      0.86       911\n",
      "     neutral       0.67      0.48      0.56       320\n",
      "    positive       0.76      0.72      0.74       233\n",
      "\n",
      "    accuracy                           0.78      1464\n",
      "   macro avg       0.75      0.70      0.72      1464\n",
      "weighted avg       0.77      0.78      0.77      1464\n",
      "\n",
      "Performing grid search...\n",
      "pipeline: ['features', 'clf']\n",
      "parameters:\n",
      "{'features__pipe__vect__max_df': (0.25, 0.5, 0.75), 'features__pipe__vect__ngram_range': ((1, 1), (1, 2)), 'features__pipe__vect__min_df': (1, 2), 'clf__C': (0.25, 0.5, 1.0), 'clf__penalty': ('l1', 'l2')}\n",
      "Fitting 5 folds for each of 72 candidates, totalling 360 fits\n",
      "done in 257.735s\n",
      "\n",
      "Best CV score: 0.787\n",
      "Best parameters set:\n",
      "\tclf__C: 0.25\n",
      "\tclf__penalty: 'l2'\n",
      "\tfeatures__pipe__vect__max_df: 0.25\n",
      "\tfeatures__pipe__vect__min_df: 1\n",
      "\tfeatures__pipe__vect__ngram_range: (1, 2)\n",
      "Test score with best_estimator_: 0.798\n",
      "\n",
      "\n",
      "Classification Report Test Data\n",
      "              precision    recall  f1-score   support\n",
      "\n",
      "    negative       0.82      0.92      0.87       911\n",
      "     neutral       0.71      0.51      0.59       320\n",
      "    positive       0.78      0.72      0.75       233\n",
      "\n",
      "    accuracy                           0.80      1464\n",
      "   macro avg       0.77      0.72      0.74      1464\n",
      "weighted avg       0.79      0.80      0.79      1464\n",
      "\n"
     ]
    }
   ],
   "source": [
    "countvect = CountVectorizer()\n",
    "# MultinomialNB\n",
    "best_mnb_countvect = grid_vect(mnb, parameters_mnb, X_train, X_test, parameters_text=parameters_vect, vect=countvect)\n",
    "# LogisticRegression\n",
    "best_logreg_countvect = grid_vect(logreg, parameters_logreg, X_train, X_test, parameters_text=parameters_vect, vect=countvect)"
   ]
  },
  {
   "cell_type": "code",
   "execution_count": 28,
   "id": "d9909a3a-793a-48f3-aced-689e4c313f0c",
   "metadata": {},
   "outputs": [
    {
     "name": "stdout",
     "output_type": "stream",
     "text": [
      "Performing grid search...\n",
      "pipeline: ['features', 'clf']\n",
      "parameters:\n",
      "{'features__pipe__vect__max_df': (0.25, 0.5, 0.75), 'features__pipe__vect__ngram_range': ((1, 1), (1, 2)), 'features__pipe__vect__min_df': (1, 2), 'clf__alpha': (0.25, 0.5, 0.75)}\n",
      "Fitting 5 folds for each of 36 candidates, totalling 180 fits\n",
      "done in 30.512s\n",
      "\n",
      "Best CV score: 0.748\n",
      "Best parameters set:\n",
      "\tclf__alpha: 0.25\n",
      "\tfeatures__pipe__vect__max_df: 0.25\n",
      "\tfeatures__pipe__vect__min_df: 2\n",
      "\tfeatures__pipe__vect__ngram_range: (1, 2)\n",
      "Test score with best_estimator_: 0.750\n",
      "\n",
      "\n",
      "Classification Report Test Data\n",
      "              precision    recall  f1-score   support\n",
      "\n",
      "    negative       0.74      0.97      0.84       911\n",
      "     neutral       0.76      0.29      0.42       320\n",
      "    positive       0.79      0.50      0.61       233\n",
      "\n",
      "    accuracy                           0.75      1464\n",
      "   macro avg       0.77      0.59      0.63      1464\n",
      "weighted avg       0.76      0.75      0.72      1464\n",
      "\n",
      "Performing grid search...\n",
      "pipeline: ['features', 'clf']\n",
      "parameters:\n",
      "{'features__pipe__vect__max_df': (0.25, 0.5, 0.75), 'features__pipe__vect__ngram_range': ((1, 1), (1, 2)), 'features__pipe__vect__min_df': (1, 2), 'clf__C': (0.25, 0.5, 1.0), 'clf__penalty': ('l1', 'l2')}\n",
      "Fitting 5 folds for each of 72 candidates, totalling 360 fits\n",
      "done in 242.199s\n",
      "\n",
      "Best CV score: 0.758\n",
      "Best parameters set:\n",
      "\tclf__C: 1.0\n",
      "\tclf__penalty: 'l2'\n",
      "\tfeatures__pipe__vect__max_df: 0.25\n",
      "\tfeatures__pipe__vect__min_df: 2\n",
      "\tfeatures__pipe__vect__ngram_range: (1, 2)\n",
      "Test score with best_estimator_: 0.755\n",
      "\n",
      "\n",
      "Classification Report Test Data\n",
      "              precision    recall  f1-score   support\n",
      "\n",
      "    negative       0.77      0.93      0.85       911\n",
      "     neutral       0.69      0.39      0.50       320\n",
      "    positive       0.71      0.56      0.63       233\n",
      "\n",
      "    accuracy                           0.76      1464\n",
      "   macro avg       0.73      0.63      0.66      1464\n",
      "weighted avg       0.75      0.76      0.74      1464\n",
      "\n"
     ]
    }
   ],
   "source": [
    "tfidfvect = TfidfVectorizer()\n",
    "# MultinomialNB\n",
    "best_mnb_tfidf = grid_vect(mnb, parameters_mnb, X_train, X_test, parameters_text=parameters_vect, vect=tfidfvect)\n",
    "# LogisticRegression\n",
    "best_logreg_tfidf = grid_vect(logreg, parameters_logreg, X_train, X_test, parameters_text=parameters_vect, vect=tfidfvect)"
   ]
  },
  {
   "cell_type": "markdown",
   "id": "97eaa3ee-becf-4cbb-aba4-29f6bad180f9",
   "metadata": {},
   "source": [
    "## Analyse sémantique"
   ]
  },
  {
   "cell_type": "markdown",
   "id": "eede7ecd-d925-4d73-8115-c581975dfff3",
   "metadata": {},
   "source": [
    "On initialise et on utilise un modèle Word2Vec pour créer des représentations vectorielles de mots à partir des tweets nettoyés. \n",
    "\n",
    "Le code commence par définir SIZE à 50, qui représente la dimension des vecteurs de mots. Ensuite, il tokenise le texte nettoyé dans les ensembles d'entraînement et de test, créant une nouvelle colonne 'clean_text_wordlist' contenant des listes de mots pour chaque tweet. Cette étape est nécessaire pour préparer les données pour l'entraînement du modèle Word2Vec. Un modèle Word2Vec est alors initialisé et entraîné sur les listes de mots de l'ensemble d'entraînement, avec des paramètres spécifiques : min_count=1 (inclure tous les mots), window=5 (contexte de 5 mots), et workers=4 (utiliser 4 threads pour l'entraînement).\n",
    "\n",
    "Après l'entraînement, le code utilise la méthode most_similar pour trouver les 3 mots les plus similaires au mot 'plane' selon le modèle Word2Vec. Cette opération démontre l'utilité du modèle pour capturer les relations sémantiques entre les mots dans le contexte spécifique des tweets sur les compagnies aériennes. L'utilisation de Word2Vec permet de transformer les mots en vecteurs denses, capturant ainsi des informations sémantiques qui peuvent être utiles pour des tâches d'analyse de sentiment ou de classification de texte plus avancées."
   ]
  },
  {
   "cell_type": "code",
   "execution_count": 48,
   "id": "f9b32f62-321a-437b-b5c8-f0aab3e24dee",
   "metadata": {},
   "outputs": [
    {
     "data": {
      "text/plain": [
       "[('tarmac', 0.9988699555397034),\n",
       " ('gate', 0.9978677034378052),\n",
       " ('sit', 0.9978242516517639)]"
      ]
     },
     "execution_count": 48,
     "metadata": {},
     "output_type": "execute_result"
    }
   ],
   "source": [
    "SIZE = 50\n",
    "X_train['clean_text_wordlist'] = X_train.clean_text.apply(lambda x : word_tokenize(x))\n",
    "X_test['clean_text_wordlist'] = X_test.clean_text.apply(lambda x : word_tokenize(x))\n",
    "model = gensim.models.Word2Vec(X_train.clean_text_wordlist\n",
    ", min_count=1\n",
    ", window=5\n",
    ", workers=4)\n",
    "model.wv.most_similar('plane', topn=3)"
   ]
  },
  {
   "cell_type": "markdown",
   "id": "92d06044-5f58-4e44-86cd-04f4b246a786",
   "metadata": {},
   "source": [
    "On définit une fonction compute_avg_w2v_vector et l'utilise pour transformer les tweets en vecteurs Word2Vec moyens.\n",
    "\n",
    "La fonction compute_avg_w2v_vector prend en entrée un dictionnaire de vecteurs de mots (w2v_dict) et un tweet tokenisé. Elle calcule le vecteur moyen du tweet en faisant la moyenne des vecteurs de mots présents dans le dictionnaire Word2Vec. Si aucun mot du tweet n'est présent dans le dictionnaire, elle retourne un vecteur de zéros de la même dimension que les vecteurs de mots. Cette approche permet de représenter chaque tweet par un vecteur unique, capturant le sens global du tweet à partir des représentations vectorielles de ses mots individuels.\n",
    "\n",
    "Ensuite, le code applique cette fonction à chaque tweet dans les ensembles d'entraînement (X_train) et de test (X_test), créant ainsi X_train_w2v et X_test_w2v. Ces nouvelles variables contiennent les représentations vectorielles moyennes de chaque tweet, basées sur le modèle Word2Vec précédemment entraîné. Cette transformation convertit les tweets de séquences de mots en vecteurs numériques de dimension fixe, ce qui les rend utilisables comme entrées pour des algorithmes d'apprentissage automatique classiques. \n",
    "\n",
    "Cette représentation capture des informations sémantiques des tweets qui peuvent être utiles pour des tâches de classification ou d'analyse de sentiment."
   ]
  },
  {
   "cell_type": "code",
   "execution_count": 53,
   "id": "ca955e53-e4fe-4dfd-af08-7dcc43d324b4",
   "metadata": {},
   "outputs": [],
   "source": [
    "def compute_avg_w2v_vector(w2v_dict, tweet):\n",
    "    list_of_word_vectors = [w2v_dict[w] for w in tweet if w in w2v_dict.key_to_index]\n",
    "    \n",
    "    if len(list_of_word_vectors) == 0:\n",
    "        result = [0.0] * w2v_dict.vector_size\n",
    "    else:\n",
    "        result = np.sum(list_of_word_vectors, axis=0) / len(list_of_word_vectors)\n",
    "        \n",
    "    return result\n",
    "\n",
    "X_train_w2v = X_train['clean_text_wordlist'].apply(lambda x: compute_avg_w2v_vector(model.wv, x))\n",
    "X_test_w2v = X_test['clean_text_wordlist'].apply(lambda x: compute_avg_w2v_vector(model.wv, x))"
   ]
  },
  {
   "cell_type": "code",
   "execution_count": 54,
   "id": "0f9d4202-1821-4d06-b818-80a664d379bb",
   "metadata": {},
   "outputs": [],
   "source": [
    "X_train_w2v = pd.DataFrame(X_train_w2v.values.tolist(), index= X_train.index)\n",
    "X_test_w2v = pd.DataFrame(X_test_w2v.values.tolist(), index= X_test.index)\n",
    "# Concatenate with the TextCounts variables\n",
    "X_train_w2v = pd.concat([X_train_w2v, X_train.drop(['clean_text', 'clean_text_wordlist'], axis=1)], axis=1)\n",
    "X_test_w2v = pd.concat([X_test_w2v, X_test.drop(['clean_text', 'clean_text_wordlist'], axis=1)], axis=1)"
   ]
  },
  {
   "cell_type": "code",
   "execution_count": 56,
   "id": "1768ba1b-a321-46a9-b497-c9a5509cb160",
   "metadata": {},
   "outputs": [
    {
     "name": "stdout",
     "output_type": "stream",
     "text": [
      "Performing grid search...\n",
      "pipeline: ['features', 'clf']\n",
      "parameters:\n",
      "{'clf__C': (0.25, 0.5, 1.0), 'clf__penalty': ('l1', 'l2')}\n",
      "Fitting 5 folds for each of 6 candidates, totalling 30 fits\n",
      "done in 4.052s\n",
      "\n",
      "Best CV score: 0.689\n",
      "Best parameters set:\n",
      "\tclf__C: 0.5\n",
      "\tclf__penalty: 'l2'\n",
      "Test score with best_estimator_: 0.687\n",
      "\n",
      "\n",
      "Classification Report Test Data\n",
      "              precision    recall  f1-score   support\n",
      "\n",
      "    negative       0.70      0.95      0.81       911\n",
      "     neutral       0.55      0.21      0.31       320\n",
      "    positive       0.65      0.31      0.42       233\n",
      "\n",
      "    accuracy                           0.69      1464\n",
      "   macro avg       0.63      0.49      0.51      1464\n",
      "weighted avg       0.66      0.69      0.64      1464\n",
      "\n"
     ]
    }
   ],
   "source": [
    "best_logreg_w2v = grid_vect(logreg, parameters_logreg, X_train_w2v, X_test_w2v, is_w2v=True)"
   ]
  },
  {
   "cell_type": "markdown",
   "id": "6eba8312-fdef-4c09-9377-965cf3e8570b",
   "metadata": {},
   "source": [
    "## Applications à de nouvelles données"
   ]
  },
  {
   "cell_type": "code",
   "execution_count": 58,
   "id": "a06305cb-7f12-49fe-8fda-502dcc1635c4",
   "metadata": {},
   "outputs": [],
   "source": [
    "textcountscols = ['count_capital_words','count_emojis','count_excl_quest_marks','count_hashtags'\n",
    ",'count_mentions','count_urls','count_words']\n",
    "\n",
    "features = FeatureUnion([('textcounts', ColumnExtractor(cols=textcountscols))\n",
    ", ('pipe', Pipeline([('cleantext', ColumnExtractor(cols='clean_text'))\n",
    ", ('vect', CountVectorizer(max_df=0.5, min_df=1, ngram_range=(1,2)))]))]\n",
    ", n_jobs=-1)\n",
    "pipeline = Pipeline([\n",
    "('features', features)\n",
    ", ('clf', LogisticRegression(C=1.0, penalty='l2'))\n",
    "])\n",
    "\n",
    "best_model = pipeline.fit(df_model.drop('airline_sentiment', axis=1), df_model.airline_sentiment)"
   ]
  },
  {
   "cell_type": "code",
   "execution_count": 59,
   "id": "e53ac200-5dee-4dec-8c8d-bfc61b4c848d",
   "metadata": {},
   "outputs": [
    {
     "data": {
      "text/plain": [
       "['positive', 'positive', 'positive']"
      ]
     },
     "execution_count": 59,
     "metadata": {},
     "output_type": "execute_result"
    }
   ],
   "source": [
    "# Application sur un nouveau tweet positif\n",
    "\n",
    "new_positive_tweets = pd.Series([\"Thank you @VirginAmerica for you amazing customer support team on Tuesday 11/28 at @EWRairport and returning my lost bag in less than 24h! #efficiencyiskey #virginamerica\"\n",
    ",\"Love flying with you guys ask these years. Sad that this will be the last trip 😂 @VirginAmerica #LuxuryTravel\"\n",
    ",\"Wow @VirginAmerica main cabin select is the way to fly!! This plane is nice and clean & I have tons of legroom! Wahoo! NYC bound! ✈️\"])\n",
    "\n",
    "df_counts_pos = tc.transform(new_positive_tweets)\n",
    "df_clean_pos = ct.transform(new_positive_tweets)\n",
    "df_model_pos = df_counts_pos\n",
    "df_model_pos['clean_text'] = df_clean_pos\n",
    "\n",
    "best_model.predict(df_model_pos).tolist()"
   ]
  },
  {
   "cell_type": "code",
   "execution_count": 61,
   "id": "e7643fea-9ed2-4b46-baa3-5ec27bfbb83c",
   "metadata": {},
   "outputs": [
    {
     "data": {
      "text/plain": [
       "['negative', 'negative', 'negative']"
      ]
     },
     "execution_count": 61,
     "metadata": {},
     "output_type": "execute_result"
    }
   ],
   "source": [
    "# Application sur un nouveau tweet négatif\n",
    "\n",
    "new_negative_tweets = pd.Series([\"@VirginAmerica shocked my initially with the service, but then went on to shock me further with no response to what my complaint was. #unacceptable @Delta @richardbranson\"\n",
    ",\"@VirginAmerica this morning I was forced to repack a suitcase w a medical device because it was barely overweight - wasn't even given an option to pay extra. My spouses suitcase then burst at the seam with the added device and had to be taped shut. Awful experience so far!\"\n",
    ",\"Board airplane home. Computer issue. Get off plane, traverse airport to gate on opp side. Get on new plane hour later. Plane too heavy. 8 volunteers get off plane. Ohhh the adventure of travel ✈️ @VirginAmerica\"])\n",
    "\n",
    "df_counts_neg = tc.transform(new_negative_tweets)\n",
    "df_clean_neg = ct.transform(new_negative_tweets)\n",
    "df_model_neg = df_counts_neg\n",
    "df_model_neg['clean_text'] = df_clean_neg\n",
    "\n",
    "best_model.predict(df_model_neg).tolist()"
   ]
  }
 ],
 "metadata": {
  "kernelspec": {
   "display_name": "Python 3 (ipykernel)",
   "language": "python",
   "name": "python3"
  },
  "language_info": {
   "codemirror_mode": {
    "name": "ipython",
    "version": 3
   },
   "file_extension": ".py",
   "mimetype": "text/x-python",
   "name": "python",
   "nbconvert_exporter": "python",
   "pygments_lexer": "ipython3",
   "version": "3.11.5"
  }
 },
 "nbformat": 4,
 "nbformat_minor": 5
}
